{
 "cells": [
  {
   "cell_type": "code",
   "execution_count": 34,
   "id": "ed49d5bc",
   "metadata": {},
   "outputs": [
    {
     "name": "stdout",
     "output_type": "stream",
     "text": [
      "3\n",
      "4\n",
      "5\n",
      "6.0\n"
     ]
    }
   ],
   "source": [
    "a = int(input())\n",
    "b = int(input())\n",
    "c = int(input())\n",
    "p = (a+b+c) / 2\n",
    "s = (p*(p-a)*(p-b)*(p-c))**0.5\n",
    "print(s)"
   ]
  },
  {
   "cell_type": "code",
   "execution_count": 37,
   "id": "ddbc07bc",
   "metadata": {},
   "outputs": [
    {
     "name": "stdout",
     "output_type": "stream",
     "text": [
      "True\n"
     ]
    }
   ],
   "source": [
    "num = int(input())\n",
    "print(-15 < num <= 12 or 14 < num < 17 or 19 <= num)"
   ]
  },
  {
   "cell_type": "code",
   "execution_count": 45,
   "id": "72c2fc24",
   "metadata": {},
   "outputs": [
    {
     "name": "stdout",
     "output_type": "stream",
     "text": [
      "9\n",
      "3\n",
      "6\n",
      "3 6 9\n"
     ]
    }
   ],
   "source": [
    "print(*sorted([int(input()) for _ in '   ']))"
   ]
  },
  {
   "cell_type": "code",
   "execution_count": 57,
   "id": "726b8a66",
   "metadata": {},
   "outputs": [
    {
     "name": "stdout",
     "output_type": "stream",
     "text": [
      "17\n",
      "2\n",
      "40\n",
      "40\n",
      "2\n",
      "17\n"
     ]
    }
   ],
   "source": [
    "k = sorted([int(input()) for _ in '   '])\n",
    "print(k[2],k[0],k[1], sep='\\n')"
   ]
  },
  {
   "cell_type": "code",
   "execution_count": 67,
   "id": "79c31fa0",
   "metadata": {},
   "outputs": [
    {
     "name": "stdout",
     "output_type": "stream",
     "text": [
      "2\n",
      "2 программистов\n",
      "2\n",
      "False\n"
     ]
    }
   ],
   "source": [
    "n_progs = str(input())\n",
    "ta = ['2','3','4']\n",
    "if n_progs[-1] == '1': print(n_progs + ' программист')\n",
    "elif n_progs[-1] in ta: print(n_progs + ' программиста')\n",
    "else: print(n_progs + ' программистов')\n",
    "    \n",
    "    #11,12,13,14,"
   ]
  }
 ],
 "metadata": {
  "kernelspec": {
   "display_name": "Python 3 (ipykernel)",
   "language": "python",
   "name": "python3"
  },
  "language_info": {
   "codemirror_mode": {
    "name": "ipython",
    "version": 3
   },
   "file_extension": ".py",
   "mimetype": "text/x-python",
   "name": "python",
   "nbconvert_exporter": "python",
   "pygments_lexer": "ipython3",
   "version": "3.9.12"
  }
 },
 "nbformat": 4,
 "nbformat_minor": 5
}
