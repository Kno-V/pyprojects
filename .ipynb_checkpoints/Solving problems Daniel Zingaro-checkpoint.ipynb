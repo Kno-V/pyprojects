{
 "cells": [
  {
   "cell_type": "markdown",
   "id": "f167b55f",
   "metadata": {},
   "source": [
    "1. DMOJ problem wc16c1j1, A Spooky Season\n",
    "2. DMOJ problem wc15c2j1, A New Hope\n",
    "3. DMOJ problem ccc13j1, Next in Line\n",
    "4. DMOJ problem wc17c1j2, How’s the Weather? (Be careful with the\n",
    "direction of conversion!)\n",
    "5. DMOJ problem wc18c3j1, An Honest Day’s Work (Hint: how can you\n",
    "determine the number of bottle caps and the total paint required by\n",
    "those bottle caps?)\n",
    "\n",
    "1. DMOJ problem ccc06j1, Canadian Calorie Counting\n",
    "2. DMOJ problem ccc15j1, Special Day\n",
    "3. DMOJ problem ccc15j2, Happy or Sad\n",
    "4. DMOJ problem dmopc16c1p0, C.C. and Cheese-kun\n",
    "5. DMOJ problem ccc07j1, Who is in the Middle\n",
    "\n",
    "1. DMOJ problem wc17c3j3, Uncrackable\n",
    "2. DMOJ problem coci18c3p1, Magnus\n",
    "3. DMOJ problem ccc11s1, English or French\n",
    "4. DMOJ problem ccc11s2, Multiple Choice\n",
    "5. DMOJ problem coci12c5p1, Ljestvica\n",
    "6. DMOJ problem coci13c3p1, Rijeci\n",
    "7. DMOJ problem coci18c4p1, Elder\n",
    "\n",
    "1. DMOJ problem ccc20j2, Epidemiology\n",
    "2. DMOJ problem coci08c1p2, Ptice\n",
    "3. DMOJ problem ccc02j2, AmeriCanadian\n",
    "4. DMOJ problem ecoo13r1p1, Take a Number\n",
    "5. DMOJ problem ecoo15r1p1, When You Eat Your Smarties\n",
    "6. DMOJ problem ccc19j3, Cold Compress\n",
    "\n",
    "1. DMOJ problem ccc07j3, Deal or No Deal Calculator\n",
    "2. DMOJ problem coci17c1p1, Cezar\n",
    "3. DMOJ problem coci18c2p1, Preokret\n",
    "4. DMOJ problem ccc00s2, Babbling Brooks (Check out Python’s round\n",
    "function.)\n",
    "5. DMOJ problem ecoo18r1p1, Willow’s Wild Ride\n",
    "6. DMOJ problem ecoo19r1p1, Free Shirts\n",
    "7. DMOJ problem dmopc14c7p2, Tides\n",
    "8. DMOJ problem wac3p3, Wesley Plays DDR\n",
    "9. DMOJ problem ecoo18r1p2, Rue’s Rings (If you use f-strings here,\n",
    "you’ll need a way to include the { and } symbols themselves. You can\n",
    "include a { in the f-string by using {{ and a } by using }}.)\n",
    "10. DMOJ problem coci19c5p1, Emacs\n",
    "11. DMOJ problem coci20c2p1, Crtanje (You’ll need to support rows\n",
    "from –100 to 100. But how do we support negative-indexed rows\n",
    "when Python lists start at index 0? Here’s a trick: use index x + 100\n",
    "any time you need access to row x. That shifts the row numbers to\n",
    "be between 0 and 200 rather than between –100 and 100. Also, one\n",
    "small annoyance here with strings: \\ is a special character, so you’ll\n",
    "have to use '\\\\' rather than '\\' if you want a \\ character.)\n",
    "12. DMOJ problem dmopc19c5p2, Charlie’s Crazy Conquest (You’ll have to\n",
    "be careful with indices and the game rules for this one!)\n",
    "\n",
    "1. DMOJ problem ccc13s1, From 1987 to 2013\n",
    "2. DMOJ problem ccc18j3, Are we there yet?\n",
    "3. DMOJ problem ecoo12r1p2, Decoding DNA\n",
    "4. DMOJ problem crci07p1, Platforme\n",
    "5. DMOJ problem coci13c2p2, Misa\n",
    "6. Revisit some of the exercises from Chapter 5 and improve your solutions\n",
    "by using functions. I particularly suggest revisiting DMOJ\n",
    "problem coci18c2p1 (Preokret) and DMOJ problem ccc00s2 (Babbling\n",
    "Brooks).\n",
    "\n",
    "1. DMOJ problem crci06p1, Bard\n",
    "2. DMOJ problem dmopc19c5p1, Conspicuous Cryptic Checklist\n",
    "3. DMOJ problem coci15c2p1, Marko\n",
    "4. DMOJ problem ccc06s2, Attack of the CipherTexts\n",
    "5. DMOJ problem dmopc19c3p1, Mode Finding\n",
    "6. DMOJ problem coci14c2p2, Utrka (Try solving this one in three different\n",
    "ways: using a dictionary, using a set, and using lists!)\n",
    "7. DMOJ problem coci17c2p2, ZigZag (Hint: maintain two dictionaries.\n",
    "The first maps each starting letter to its list of words; the second\n",
    "maps each starting letter to the index of its next word that will be\n",
    "output. That way, we can cycle through the words for each letter\n",
    "without having to explicitly update numbers of occurrences or modify\n",
    "lists.)\n",
    "\n",
    "1. USACO 2019 January Bronze Contest problem Shell Game\n",
    "2. USACO 2016 US Open Bronze Contest problem Diamond Collector\n",
    "3. DMOJ problem coci20c1p1, Patkice\n",
    "4. DMOJ problem ccc09j2, Old Fishin’ Hole\n",
    "5. DMOJ problem ecoo16r1p2, Spindie\n",
    "6. DMOJ problem cco96p2, SafeBreaker\n",
    "7. USACO 2019 December Bronze Contest problem Where Am I\n",
    "8. USACO 2016 January Bronze Contest problem Angry Cows\n",
    "9. USACO 2016 December Silver Contest problem Counting Haybales\n",
    "10. DMOJ problem crci06p3, Firefly\n",
    "\n",
    "1. DMOJ problem dmopc17c1p1, Fujo Neko (The problem talks about\n",
    "using fast input/output. Don’t ignore that!)\n",
    "2. DMOJ problem coci10c1p2, Profesor\n",
    "3. DMOJ problem coci19c4p1, Pod starim krovovima (Hint: to maximize\n",
    "the number of empty glasses, you want to put as much liquid as possible\n",
    "in the biggest glasses.)\n",
    "4. DMOJ problem dmopc20c1p2, Victor’s Moral Dilemma\n",
    "5. DMOJ problem avocadotrees, Avocado Trees!\n",
    "6. DMOJ problem coci11c5p2, Eko (Hint: the maximum number of\n",
    "trees is far fewer than the maximum number of heights. Consider\n",
    "each tree from tallest to shortest.)\n",
    "7. DMOJ problem wac6p2, Cheap Christmas Lights (Hint: don’t try flipping\n",
    "a switch each second—how would you know which one to flip?\n",
    "Instead, store them up, and use them all as soon as you can shut off\n",
    "all the lights that are on.)\n",
    "8. DMOJ problem ioi98p3, Party Lamps (Hint: all that matters for each\n",
    "button is whether it is pressed an even or odd number of times.)"
   ]
  },
  {
   "cell_type": "markdown",
   "id": "3a56c0a8",
   "metadata": {},
   "source": [
    "**DMOJ problem wc16c1j1, A Spooky Season**"
   ]
  },
  {
   "cell_type": "code",
   "execution_count": null,
   "id": "89449898",
   "metadata": {},
   "outputs": [],
   "source": [
    "magic_integer = int(input())\n",
    "if 2<=magic_integer<=20:\n",
    "    print ('sp'+'o'*magic_integer+'ky')"
   ]
  },
  {
   "cell_type": "markdown",
   "id": "1acb7516",
   "metadata": {},
   "source": [
    "**DMOJ problem wc15c2j1, A New Hope**"
   ]
  },
  {
   "cell_type": "code",
   "execution_count": null,
   "id": "a57fced6",
   "metadata": {},
   "outputs": [],
   "source": [
    "farfar_meter = int(input())\n",
    "if 1 <= farfar_meter <= 5:\n",
    "    far_distance = 'far, '*farfar_meter\n",
    "    print ('A long time ago in a galaxy '+far_distance[:-2]+' away...')"
   ]
  },
  {
   "cell_type": "markdown",
   "id": "35fc9bd1",
   "metadata": {},
   "source": [
    "**DMOJ problem ccc13j1, Next in Line**"
   ]
  },
  {
   "cell_type": "code",
   "execution_count": null,
   "id": "93e2b502",
   "metadata": {},
   "outputs": [],
   "source": [
    "y = int(input())\n",
    "m = int(input())\n",
    "print(m*2-y)"
   ]
  },
  {
   "cell_type": "markdown",
   "id": "91f64a24",
   "metadata": {},
   "source": [
    "**DMOJ problem wc17c1j2, How’s the Weather? (Be careful with the\n",
    "direction of conversion!)**"
   ]
  },
  {
   "cell_type": "code",
   "execution_count": null,
   "id": "fe9f9484",
   "metadata": {},
   "outputs": [],
   "source": [
    "celsius = int(input())\n",
    "fahrenheit = celsius*9/5+32\n",
    "print(int(fahrenheit))"
   ]
  },
  {
   "cell_type": "markdown",
   "id": "d8cab6bb",
   "metadata": {},
   "source": [
    "**DMOJ problem wc18c3j1, An Honest Day’s Work (Hint: how can you\n",
    "determine the number of bottle caps and the total paint required by\n",
    "those bottle caps?)**"
   ]
  },
  {
   "cell_type": "code",
   "execution_count": null,
   "id": "87c98dda",
   "metadata": {},
   "outputs": [],
   "source": [
    "paint_amount = int(input())\n",
    "badges_consumption = int(input())\n",
    "dollars_price = int(input())\n",
    "\n",
    "total = paint_amount//badges_consumption*dollars_price+paint_amount%badges_consumption\n",
    "\n",
    "print (total)"
   ]
  },
  {
   "cell_type": "markdown",
   "id": "bc9ebd03",
   "metadata": {},
   "source": [
    "**DMOJ problem ccc06j1, Canadian Calorie Counting**"
   ]
  },
  {
   "cell_type": "code",
   "execution_count": null,
   "id": "a11c2a56",
   "metadata": {},
   "outputs": [],
   "source": [
    "burger_menu = {1 : 461,\n",
    "               2 : 431,\n",
    "               3 : 420,\n",
    "               4 : 0}\n",
    "side_menu = {1 : 100,\n",
    "             2 : 57,\n",
    "             3 : 70,\n",
    "             4 : 0}\n",
    "drink_menu = {1 : 130,\n",
    "              2 : 160,\n",
    "              3 : 118,\n",
    "              4 : 0}\n",
    "dessert_menu = {1 : 167,\n",
    "                2 : 266,\n",
    "                3 : 75,\n",
    "                4 : 0}\n",
    "\n",
    "burger = int(input())\n",
    "side = int(input())\n",
    "drink = int(input())\n",
    "dessert = int(input())\n",
    "\n",
    "result = burger_menu[burger] + side_menu[side] + drink_menu [drink] + dessert_menu[dessert]\n",
    "\n",
    "print(f\"Your total Calorie count is {result}.\")"
   ]
  },
  {
   "cell_type": "markdown",
   "id": "111bb7b9",
   "metadata": {},
   "source": [
    "**DMOJ problem ccc15j1, Special Day**"
   ]
  },
  {
   "cell_type": "code",
   "execution_count": null,
   "id": "8065fc48",
   "metadata": {},
   "outputs": [],
   "source": [
    "from datetime import date\n",
    "\n",
    "month, day = int(input()), int(input())\n",
    "\n",
    "x = date (2015, 2, 18)\n",
    "d = date (2015, month, day)\n",
    "\n",
    "if d == x:\n",
    "    print(\"Special\")\n",
    "elif d>x:\n",
    "    print(\"After\")\n",
    "elif d<x:\n",
    "    print(\"Before\")"
   ]
  },
  {
   "cell_type": "markdown",
   "id": "c3b71429",
   "metadata": {},
   "source": [
    "**DMOJ problem ccc15j2, Happy or Sad**"
   ]
  },
  {
   "cell_type": "code",
   "execution_count": null,
   "id": "d9ea306c",
   "metadata": {},
   "outputs": [],
   "source": [
    "text_example = str(input())\n",
    "\n",
    "happy=-1\n",
    "sad=-1\n",
    "\n",
    "x=0\n",
    "pos=0\n",
    "while x >= 0:\n",
    "    x = text_example.find(':-)', pos)\n",
    "    pos = x+1\n",
    "    happy += 1\n",
    "\n",
    "x=0\n",
    "pos=0    \n",
    "while x >= 0:\n",
    "    x = text_example.find(':-(', pos)\n",
    "    pos = x+1\n",
    "    sad += 1\n",
    "\n",
    "if happy > sad:\n",
    "    print (\"happy\")\n",
    "elif happy < sad:\n",
    "    print (\"sad\")\n",
    "elif happy == sad > 0:\n",
    "    print (\"unsure\")\n",
    "else:\n",
    "    print (\"none\")"
   ]
  },
  {
   "cell_type": "markdown",
   "id": "b90734cf",
   "metadata": {},
   "source": [
    "**DMOJ problem dmopc16c1p0, C.C. and Cheese-kun**"
   ]
  },
  {
   "cell_type": "code",
   "execution_count": null,
   "id": "1ec41e06",
   "metadata": {},
   "outputs": [],
   "source": [
    "width = int(input())\n",
    "cheese = int(input())\n",
    "\n",
    "if width>=3 and cheese >= 95:\n",
    "    print (\"C.C. is absolutely satisfied with her pizza.\")\n",
    "elif width==1 and cheese<=50:\n",
    "    print (\"C.C. is fairly satisfied with her pizza.\")\n",
    "else:\n",
    "    print (\"C.C. is very satisfied with her pizza.\")"
   ]
  },
  {
   "cell_type": "markdown",
   "id": "89e5adc6",
   "metadata": {},
   "source": [
    "**DMOJ problem ccc07j1, Who is in the Middle**"
   ]
  },
  {
   "cell_type": "code",
   "execution_count": null,
   "id": "d49b7c09",
   "metadata": {},
   "outputs": [],
   "source": [
    "x, y, z = int(input()), int(input()), int(input())\n",
    "\n",
    "order = [x,y,z] \n",
    "\n",
    "print(sorted(order)[1])"
   ]
  },
  {
   "cell_type": "markdown",
   "id": "e89bd604",
   "metadata": {},
   "source": [
    "**DMOJ problem wc17c3j3, Uncrackable**"
   ]
  },
  {
   "cell_type": "code",
   "execution_count": null,
   "id": "5fe7412c",
   "metadata": {},
   "outputs": [],
   "source": [
    "password = str(input())\n",
    "\n",
    "upper_case = 0\n",
    "lower_case = 0\n",
    "number = 0\n",
    "\n",
    "for i in password:\n",
    "    if i.isupper():\n",
    "        upper_case += 1\n",
    "    elif i.islower():\n",
    "        lower_case += 1\n",
    "    elif i.isdigit():\n",
    "        number += 1\n",
    "\n",
    "if len(password) < 8 or len(password) > 12 or upper_case < 2 or lower_case < 3 or number == 0:\n",
    "    print (\"Invalid\")\n",
    "else:\n",
    "    print (\"Valid\")"
   ]
  },
  {
   "cell_type": "markdown",
   "id": "ca74a4d0",
   "metadata": {},
   "source": [
    "2. DMOJ problem coci18c3p1, Magnus"
   ]
  },
  {
   "cell_type": "code",
   "execution_count": null,
   "id": "9e75affd",
   "metadata": {},
   "outputs": [],
   "source": []
  },
  {
   "cell_type": "markdown",
   "id": "81806ce3",
   "metadata": {},
   "source": [
    "**DMOJ problem ccc11s1, English or French**"
   ]
  },
  {
   "cell_type": "code",
   "execution_count": null,
   "id": "88d5eba8",
   "metadata": {},
   "outputs": [],
   "source": [
    "n_lines = int(input())\n",
    "text = \"\"\n",
    "    \n",
    "for i in range(n_lines):\n",
    "    text+=input()+\"\\n\"\n",
    "text = text.lower()\n",
    "ttt = text.count('t')\n",
    "sss = text.count('s')\n",
    "\n",
    "if ttt > sss:\n",
    "    print (\"English\")\n",
    "else:\n",
    "    print (\"French\")"
   ]
  },
  {
   "cell_type": "markdown",
   "id": "0d75303a",
   "metadata": {},
   "source": [
    "4. DMOJ problem ccc11s2, Multiple Choice"
   ]
  },
  {
   "cell_type": "code",
   "execution_count": null,
   "id": "57f42604",
   "metadata": {},
   "outputs": [],
   "source": []
  },
  {
   "cell_type": "markdown",
   "id": "3d917ac8",
   "metadata": {},
   "source": [
    "5. DMOJ problem coci12c5p1, Ljestvica"
   ]
  },
  {
   "cell_type": "code",
   "execution_count": null,
   "id": "808c1859",
   "metadata": {},
   "outputs": [],
   "source": [
    "import re\n",
    "\n",
    "text = str(input()).upper()\n",
    "\n",
    "#del everything except h,o,n,i\n",
    "text = re.sub(\"[^HONI]\", \"\", text)\n",
    "\n",
    "#del duplicates\n",
    "text = re.sub(\"[H]+\",\"H\", text) \n",
    "text = re.sub(\"[O]+\",\"O\", text)\n",
    "text = re.sub(\"[N]+\",\"N\", text)\n",
    "text = re.sub(\"[I]+\",\"I\", text)\n",
    "\n",
    "print (text.count('HONI'))"
   ]
  },
  {
   "cell_type": "markdown",
   "id": "97671a55",
   "metadata": {},
   "source": [
    "**DMOJ problem coci13c3p1, Rijeci**"
   ]
  },
  {
   "cell_type": "code",
   "execution_count": null,
   "id": "2acf8cd8",
   "metadata": {},
   "outputs": [],
   "source": [
    "button_press = int(input())\n",
    "text = 'A'\n",
    "i=0\n",
    "c = [1, 0]\n",
    "\n",
    "while i < button_press:\n",
    "    c[0], c[1] = c[1], c[0]+c[1]\n",
    "    i+=1\n",
    "\n",
    "print (c[0], c[1])"
   ]
  },
  {
   "cell_type": "markdown",
   "id": "bc68fe07",
   "metadata": {},
   "source": [
    "7. DMOJ problem coci18c4p1, Elder"
   ]
  },
  {
   "cell_type": "code",
   "execution_count": null,
   "id": "f05701c3",
   "metadata": {},
   "outputs": [],
   "source": []
  }
 ],
 "metadata": {
  "kernelspec": {
   "display_name": "Python 3 (ipykernel)",
   "language": "python",
   "name": "python3"
  },
  "language_info": {
   "codemirror_mode": {
    "name": "ipython",
    "version": 3
   },
   "file_extension": ".py",
   "mimetype": "text/x-python",
   "name": "python",
   "nbconvert_exporter": "python",
   "pygments_lexer": "ipython3",
   "version": "3.9.12"
  }
 },
 "nbformat": 4,
 "nbformat_minor": 5
}
