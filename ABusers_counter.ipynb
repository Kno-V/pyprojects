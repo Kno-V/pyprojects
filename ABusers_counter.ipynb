{
 "cells": [
  {
   "cell_type": "markdown",
   "id": "d02cba28",
   "metadata": {},
   "source": [
    "Нашей компании нужно сгруппировать клиентов для АБ-тестов. Алгоритм группировки очень простой - взять ID клиента (состоит из 5-7 цифр, например 7412567) и найти сумму всех его цифр. Получившееся число и является номером группы, в которую входит данный клиент.\n",
    "\n",
    "Для того, чтобы понять, насколько хорош такой простой алгоритм, тебе нужно написать следующие диагностические функции:\n",
    "\n",
    "1. Функция, которая подсчитывает число покупателей, попадающих в каждую группу, если нумерация ID сквозная и начинается с 0. На вход функция получает целое число n_customers (количество клиентов).\n",
    "2. Функция, аналогичная первой, если ID начинается с произвольного числа. На вход функция получает целые числа: n_customers (количество клиентов) и n_first_id (первый ID в последовательности).\n",
    "\n",
    "Напишите код функций на Python и оформите его в репозиторий Github. В форму ответа вставьте ссылку на репозиторий, убедитесь, что он публичный. \n",
    "\n",
    "Дополнительно к работоспособности оценим:\n",
    "\n",
    "читабельность и аккуратность кода;\n",
    "производительность кода."
   ]
  },
  {
   "cell_type": "code",
   "execution_count": 56,
   "id": "3b18f809",
   "metadata": {},
   "outputs": [
    {
     "data": {
      "text/plain": [
       "(     id_customer  group\n",
       " 0            201      3\n",
       " 1            202      4\n",
       " 2            203      5\n",
       " 3            204      6\n",
       " 4            205      7\n",
       " ..           ...    ...\n",
       " 195          396     18\n",
       " 196          397     19\n",
       " 197          398     20\n",
       " 198          399     21\n",
       " 199          400      4\n",
       " \n",
       " [200 rows x 2 columns],\n",
       " 3      3\n",
       " 4      6\n",
       " 5      7\n",
       " 6      9\n",
       " 7     11\n",
       " 8     13\n",
       " 9     15\n",
       " 10    17\n",
       " 11    19\n",
       " 12    19\n",
       " 13    17\n",
       " 14    15\n",
       " 15    13\n",
       " 16    11\n",
       " 17     9\n",
       " 18     7\n",
       " 19     5\n",
       " 20     3\n",
       " 21     1\n",
       " Name: group, dtype: int64)"
      ]
     },
     "execution_count": 56,
     "metadata": {},
     "output_type": "execute_result"
    }
   ],
   "source": [
    "#единая функция для задач 1 и 2\n",
    "import pandas as pd\n",
    "\n",
    "def ABusers_counter(n_customers, n_first_id=0): #второй параметр - первый ID в последовательности. По умолчанию 0.\n",
    "    \n",
    "    id_df = pd.DataFrame({\n",
    "        'id_customer':[],\n",
    "        'group':[]\n",
    "    }) #DataFrame покупатель:группа\n",
    "    \n",
    "    while n_first_id < n_customers+1: #цикл заполнения DataFrame \n",
    "        group = 0\n",
    "        n_current_id = n_first_id\n",
    "        \n",
    "        while n_current_id > 0: #цикл определения группы покупателя\n",
    "            digit = n_current_id  % 10\n",
    "            group += digit\n",
    "            n_current_id = n_current_id // 10\n",
    "        \n",
    "        id_df.loc[len(id_df.index)]=[n_first_id, group]\n",
    "        n_first_id+=1\n",
    "\n",
    "#возвращает DataFrame со всем покупателями и присвоенными им группам\n",
    "#и Series с переченем групп с количествами, где index - группа, value - количество\n",
    "    return id_df, id_df['group'].value_counts().sort_index() \n",
    "        \n",
    "ABusers_counter(400, 201)"
   ]
  },
  {
   "cell_type": "code",
   "execution_count": null,
   "id": "5d46ae58",
   "metadata": {},
   "outputs": [],
   "source": []
  }
 ],
 "metadata": {
  "kernelspec": {
   "display_name": "Python 3 (ipykernel)",
   "language": "python",
   "name": "python3"
  },
  "language_info": {
   "codemirror_mode": {
    "name": "ipython",
    "version": 3
   },
   "file_extension": ".py",
   "mimetype": "text/x-python",
   "name": "python",
   "nbconvert_exporter": "python",
   "pygments_lexer": "ipython3",
   "version": "3.9.12"
  }
 },
 "nbformat": 4,
 "nbformat_minor": 5
}
