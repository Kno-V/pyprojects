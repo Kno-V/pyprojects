{
 "cells": [
  {
   "cell_type": "markdown",
   "id": "bbf4b62f",
   "metadata": {},
   "source": [
    "Project 1, Bagels: Deduce a secret three-digit number based on clues. Practice using constants."
   ]
  },
  {
   "cell_type": "code",
   "execution_count": null,
   "id": "f54a5a37",
   "metadata": {},
   "outputs": [],
   "source": [
    "def pr1bagles():\n",
    "    print ('''Pico - One digit is correct but in the wrong position.\\n \n",
    "           Fermi - One digit is correct and in the right position.\\n\n",
    "           Bagels - No digit is correct.''')\n",
    "\n",
    "\n",
    "\n",
    "\n"
   ]
  },
  {
   "cell_type": "markdown",
   "id": "7244f94f",
   "metadata": {},
   "source": [
    "Project 2, Birthday Paradox: Determine the probability that two people share the same birthday in groups of different sizes. Use Python’s datetime module."
   ]
  },
  {
   "cell_type": "code",
   "execution_count": null,
   "id": "b439df93",
   "metadata": {},
   "outputs": [],
   "source": []
  },
  {
   "cell_type": "markdown",
   "id": "00aba36a",
   "metadata": {},
   "source": [
    "Project 3, Bitmap Message: Display a message on the screen configured by a 2D bitmap image. Work with multiline strings."
   ]
  },
  {
   "cell_type": "code",
   "execution_count": null,
   "id": "facecf59",
   "metadata": {},
   "outputs": [],
   "source": []
  },
  {
   "cell_type": "markdown",
   "id": "d4e55c7c",
   "metadata": {},
   "source": [
    "Project 4, Blackjack: A classic card game played against an AI dealer. Learn about Unicode characters and code points."
   ]
  },
  {
   "cell_type": "code",
   "execution_count": null,
   "id": "1eab163d",
   "metadata": {},
   "outputs": [],
   "source": []
  },
  {
   "cell_type": "markdown",
   "id": "db4ce939",
   "metadata": {},
   "source": [
    "Project 5, Bouncing DVD Logo: Simulates the colorful bouncing DVD logo of decades past. Work with coordinates and colorful text."
   ]
  },
  {
   "cell_type": "code",
   "execution_count": null,
   "id": "15dc90d2",
   "metadata": {},
   "outputs": [],
   "source": []
  },
  {
   "cell_type": "markdown",
   "id": "57df40e7",
   "metadata": {},
   "source": [
    "Project 6, Caesar Cipher: A simple encryption scheme used thousands of years ago. Convert between letters and numbers to perform math on text."
   ]
  },
  {
   "cell_type": "code",
   "execution_count": null,
   "id": "59b103a7",
   "metadata": {},
   "outputs": [],
   "source": []
  },
  {
   "cell_type": "markdown",
   "id": "08c332e8",
   "metadata": {},
   "source": [
    "Project 7, Caesar Hacker: A program to decrypt Caesar cipher messages without the encryption key. Implement a brute-force cryptanalysis algorithm."
   ]
  },
  {
   "cell_type": "code",
   "execution_count": null,
   "id": "e6300f46",
   "metadata": {},
   "outputs": [],
   "source": []
  },
  {
   "cell_type": "markdown",
   "id": "607e14b9",
   "metadata": {},
   "source": [
    "Project 8, Calendar Maker: Create calendar pages for a given year and month. Use Python’s datetime module and the timedelta data type."
   ]
  },
  {
   "cell_type": "code",
   "execution_count": null,
   "id": "4385d9f7",
   "metadata": {},
   "outputs": [],
   "source": []
  },
  {
   "cell_type": "markdown",
   "id": "0b32dca5",
   "metadata": {},
   "source": [
    "Project 9, Carrot in a Box: A silly bluffing game between two players. Create ASCII art."
   ]
  },
  {
   "cell_type": "code",
   "execution_count": null,
   "id": "6ff53fee",
   "metadata": {},
   "outputs": [],
   "source": []
  },
  {
   "cell_type": "markdown",
   "id": "185c5a54",
   "metadata": {},
   "source": [
    "Project 10, Cho-Han: A gambling dice game from feudal Japan. Practice using random numbers and dictionary data structures."
   ]
  },
  {
   "cell_type": "code",
   "execution_count": null,
   "id": "c37c4ee2",
   "metadata": {},
   "outputs": [],
   "source": []
  },
  {
   "cell_type": "markdown",
   "id": "0a37a728",
   "metadata": {},
   "source": [
    "Project 11, Clickbait Headline Generator: A humorous headline generator for your content farm. Practice string manipulation and text generation."
   ]
  },
  {
   "cell_type": "code",
   "execution_count": null,
   "id": "76c6b8cc",
   "metadata": {},
   "outputs": [],
   "source": []
  },
  {
   "cell_type": "markdown",
   "id": "d7dad773",
   "metadata": {},
   "source": [
    "Project 12, Collatz Sequence: Explore the simplest impossible conjecture in mathematics. Learn about the modulus operator."
   ]
  },
  {
   "cell_type": "code",
   "execution_count": null,
   "id": "6f8080ae",
   "metadata": {},
   "outputs": [],
   "source": []
  },
  {
   "cell_type": "markdown",
   "id": "02f44393",
   "metadata": {},
   "source": [
    "Project 13, Conway’s Game of Life: The classic cellular automata whose simple rules produce complex emergent behavior. Use dictionary data structures and screen coordinates."
   ]
  },
  {
   "cell_type": "code",
   "execution_count": null,
   "id": "d5498785",
   "metadata": {},
   "outputs": [],
   "source": []
  },
  {
   "cell_type": "markdown",
   "id": "bb54f00a",
   "metadata": {},
   "source": [
    "Project 14, Countdown: A countdown timer with a seven-segment display. Practice importing modules you create."
   ]
  },
  {
   "cell_type": "code",
   "execution_count": null,
   "id": "bbfc28fa",
   "metadata": {},
   "outputs": [],
   "source": []
  },
  {
   "cell_type": "markdown",
   "id": "401aa2a4",
   "metadata": {},
   "source": [
    "Project 15, Deep Cave: A tunnel animation that descends endlessly into the earth. Use string replication and simple math."
   ]
  },
  {
   "cell_type": "code",
   "execution_count": null,
   "id": "db72ee39",
   "metadata": {},
   "outputs": [],
   "source": []
  },
  {
   "cell_type": "markdown",
   "id": "afc71a61",
   "metadata": {},
   "source": [
    "Project 16, Diamonds: An algorithm for drawing diamonds of various sizes. Practice your pattern recognition skills to create drawing algorithms."
   ]
  },
  {
   "cell_type": "code",
   "execution_count": null,
   "id": "f651d5d1",
   "metadata": {},
   "outputs": [],
   "source": []
  },
  {
   "cell_type": "markdown",
   "id": "0cd97f8d",
   "metadata": {},
   "source": [
    "Project 17, Dice Math: A visual dice-rolling math game. Use dictionary data structures for screen coordinates."
   ]
  },
  {
   "cell_type": "code",
   "execution_count": null,
   "id": "b76cff24",
   "metadata": {},
   "outputs": [],
   "source": []
  },
  {
   "cell_type": "markdown",
   "id": "353e30fe",
   "metadata": {},
   "source": [
    "Project 18, Dice Roller: A tool for reading Dungeons & Dragons dice notation to generate random numbers. Parse text to identify key strings."
   ]
  },
  {
   "cell_type": "code",
   "execution_count": null,
   "id": "7d2fc763",
   "metadata": {},
   "outputs": [],
   "source": []
  },
  {
   "cell_type": "markdown",
   "id": "e1ed5e1f",
   "metadata": {},
   "source": [
    "Project 19, Digital Clock: A clock with a calculator-like display. Generate numbers that match information from the datetime module."
   ]
  },
  {
   "cell_type": "code",
   "execution_count": null,
   "id": "2d9cee74",
   "metadata": {},
   "outputs": [],
   "source": []
  },
  {
   "cell_type": "markdown",
   "id": "87d87a2f",
   "metadata": {},
   "source": [
    "Project 20, Digital Stream: A scrolling screensaver that resembles The Matrix. Experiment with different animation speeds."
   ]
  },
  {
   "cell_type": "code",
   "execution_count": null,
   "id": "965e4457",
   "metadata": {},
   "outputs": [],
   "source": []
  },
  {
   "cell_type": "markdown",
   "id": "91da401c",
   "metadata": {},
   "source": [
    "Project 21, DNA Visualization: An endless ASCII-art double helix that demonstrates the structure of DNA. Work with string templates and randomly generated text."
   ]
  },
  {
   "cell_type": "code",
   "execution_count": null,
   "id": "f89eeda7",
   "metadata": {},
   "outputs": [],
   "source": []
  },
  {
   "cell_type": "markdown",
   "id": "a6530d05",
   "metadata": {},
   "source": [
    "Project 22, Ducklings: Mix and match strings to create a variety of ASCII-art ducks. Use object-oriented programming to create a data model for duck drawings."
   ]
  },
  {
   "cell_type": "code",
   "execution_count": null,
   "id": "60bf0a52",
   "metadata": {},
   "outputs": [],
   "source": []
  },
  {
   "cell_type": "markdown",
   "id": "8bfc94ce",
   "metadata": {},
   "source": [
    "Project 23, Etching Drawer: Move the cursor to create line drawings. Work with screen coordinates and relative directional movements."
   ]
  },
  {
   "cell_type": "code",
   "execution_count": null,
   "id": "fb118948",
   "metadata": {},
   "outputs": [],
   "source": []
  },
  {
   "cell_type": "markdown",
   "id": "f0ba6a37",
   "metadata": {},
   "source": [
    "Project 24, Factor Finder: Find all the multiplicative factors of a number. Use the modulus operator and Python’s math module."
   ]
  },
  {
   "cell_type": "code",
   "execution_count": null,
   "id": "0644edc6",
   "metadata": {},
   "outputs": [],
   "source": []
  },
  {
   "cell_type": "markdown",
   "id": "c7b21918",
   "metadata": {},
   "source": [
    "Project 25, Fast Draw: Test your reflexes to see if you’re the fastest keyboard in the West. Learn about the keyboard buffer."
   ]
  },
  {
   "cell_type": "code",
   "execution_count": null,
   "id": "ce8a13c0",
   "metadata": {},
   "outputs": [],
   "source": []
  },
  {
   "cell_type": "markdown",
   "id": "ee24ca2e",
   "metadata": {},
   "source": [
    "Project 26, Fibonacci: Generate numbers in the famous Fibonacci sequence. Implement a rudimentary mathematics algorithm."
   ]
  },
  {
   "cell_type": "code",
   "execution_count": null,
   "id": "e6fb0458",
   "metadata": {},
   "outputs": [],
   "source": []
  },
  {
   "cell_type": "markdown",
   "id": "26e0c5df",
   "metadata": {},
   "source": [
    "Project 27, Fish Tank: A colorful, animated ASCII-art fish tank. Use screen coordinates, text colors, and data structures."
   ]
  },
  {
   "cell_type": "code",
   "execution_count": null,
   "id": "a051745f",
   "metadata": {},
   "outputs": [],
   "source": []
  },
  {
   "cell_type": "markdown",
   "id": "346c9bf7",
   "metadata": {},
   "source": [
    "Project 28, Flooder: Attempt to fill the entire puzzle board with one color. Implement the flood fill algorithm."
   ]
  },
  {
   "cell_type": "code",
   "execution_count": null,
   "id": "88d5c30b",
   "metadata": {},
   "outputs": [],
   "source": []
  },
  {
   "cell_type": "markdown",
   "id": "1b7f1dc1",
   "metadata": {},
   "source": [
    "Project 29, Forest Fire Sim: Simulate the spread of wildfires through a forest. Create a simulation with adjustable parameters."
   ]
  },
  {
   "cell_type": "code",
   "execution_count": null,
   "id": "ad72b01b",
   "metadata": {},
   "outputs": [],
   "source": []
  },
  {
   "cell_type": "markdown",
   "id": "db3267b4",
   "metadata": {},
   "source": [
    "Project 30, Four in a Row: A board game where two players try to connect four tiles in a row. Create a data structure that mimics gravity."
   ]
  },
  {
   "cell_type": "code",
   "execution_count": null,
   "id": "4889f5e7",
   "metadata": {},
   "outputs": [],
   "source": []
  },
  {
   "cell_type": "markdown",
   "id": "43f87d7c",
   "metadata": {},
   "source": [
    "Project 31, Guess the Number: The classic number guessing game. Program basic concepts for beginners."
   ]
  },
  {
   "cell_type": "code",
   "execution_count": null,
   "id": "270b24e2",
   "metadata": {},
   "outputs": [],
   "source": []
  },
  {
   "cell_type": "markdown",
   "id": "bf5df48c",
   "metadata": {},
   "source": [
    "Project 32, Gullible: A humorous program to keep gullible people busy for hours. Use input validation and loops."
   ]
  },
  {
   "cell_type": "code",
   "execution_count": null,
   "id": "adfa9b0a",
   "metadata": {},
   "outputs": [],
   "source": []
  },
  {
   "cell_type": "markdown",
   "id": "4cc87e79",
   "metadata": {},
   "source": [
    "Project 33, Hacking Minigame: Deduce a password based on clues. Add cosmetic features to make a basic game more interesting."
   ]
  },
  {
   "cell_type": "code",
   "execution_count": null,
   "id": "519e4833",
   "metadata": {},
   "outputs": [],
   "source": []
  },
  {
   "cell_type": "markdown",
   "id": "757af6b8",
   "metadata": {},
   "source": [
    "Project 34, Hangman and Guillotine: The classic word guessing game. Use string manipulation and ASCII art."
   ]
  },
  {
   "cell_type": "code",
   "execution_count": null,
   "id": "9556e826",
   "metadata": {},
   "outputs": [],
   "source": []
  },
  {
   "cell_type": "markdown",
   "id": "41627ef0",
   "metadata": {},
   "source": [
    "Project 35, Hex Grid: Programmatically generate tiled ASCII art. Use loops to make repeating text patterns."
   ]
  },
  {
   "cell_type": "code",
   "execution_count": null,
   "id": "94ff9ee8",
   "metadata": {},
   "outputs": [],
   "source": []
  },
  {
   "cell_type": "markdown",
   "id": "eb7cf82b",
   "metadata": {},
   "source": [
    "Project 36, Hourglass: A simple physics engine for falling sand. Simulate gravity and use collision detection."
   ]
  },
  {
   "cell_type": "code",
   "execution_count": null,
   "id": "a0141b4d",
   "metadata": {},
   "outputs": [],
   "source": []
  },
  {
   "cell_type": "markdown",
   "id": "f28afdb8",
   "metadata": {},
   "source": [
    "Project 37, Hungry Robots: Avoid killer robots in a maze. Create a simple AI for robot movements."
   ]
  },
  {
   "cell_type": "code",
   "execution_count": null,
   "id": "1a892584",
   "metadata": {},
   "outputs": [],
   "source": []
  },
  {
   "cell_type": "markdown",
   "id": "ddfc7291",
   "metadata": {},
   "source": [
    "Project 38, J’Accuse!: A detective game to determine liars and truth-tellers. Use data structures to generate relationships between suspects, places, and item clues."
   ]
  },
  {
   "cell_type": "code",
   "execution_count": null,
   "id": "3f29e0d3",
   "metadata": {},
   "outputs": [],
   "source": []
  },
  {
   "cell_type": "markdown",
   "id": "5122d47a",
   "metadata": {},
   "source": [
    "Project 39, Langton’s Ant: A cellular automata whose ants move according to simple rules. Explore how simple rules create complex graphical patterns."
   ]
  },
  {
   "cell_type": "code",
   "execution_count": null,
   "id": "beff262c",
   "metadata": {},
   "outputs": [],
   "source": []
  },
  {
   "cell_type": "markdown",
   "id": "75f62f76",
   "metadata": {},
   "source": [
    "Project 40, Leetspeak: Translate English messages into l33t5p34]<. Use text parsing and string manipulation."
   ]
  },
  {
   "cell_type": "code",
   "execution_count": null,
   "id": "445d3512",
   "metadata": {},
   "outputs": [],
   "source": []
  },
  {
   "cell_type": "markdown",
   "id": "61e88c22",
   "metadata": {},
   "source": [
    "Project 41, Lucky Stars: A push-your-luck dice game. Practice ASCII art and probability."
   ]
  },
  {
   "cell_type": "code",
   "execution_count": null,
   "id": "5f0da78b",
   "metadata": {},
   "outputs": [],
   "source": []
  },
  {
   "cell_type": "markdown",
   "id": "6f58c0a2",
   "metadata": {},
   "source": [
    "Project 42, Magic Fortune Ball: A program to answer your yes/no questions about the future. Add cosmetic features to make basic text appear more interesting."
   ]
  },
  {
   "cell_type": "code",
   "execution_count": null,
   "id": "678fe83a",
   "metadata": {},
   "outputs": [],
   "source": []
  },
  {
   "cell_type": "markdown",
   "id": "57875260",
   "metadata": {},
   "source": [
    "Project 43, Mancala: The ancient two-player board game from Mesopotamia. Use ASCII art and string templates to draw a board game."
   ]
  },
  {
   "cell_type": "code",
   "execution_count": null,
   "id": "e59bb137",
   "metadata": {},
   "outputs": [],
   "source": []
  },
  {
   "cell_type": "markdown",
   "id": "e8538c76",
   "metadata": {},
   "source": [
    "Project 44, Maze Runner 2D: Try to escape a maze. Read maze data from text files."
   ]
  },
  {
   "cell_type": "code",
   "execution_count": null,
   "id": "a4a2cfc2",
   "metadata": {},
   "outputs": [],
   "source": []
  },
  {
   "cell_type": "markdown",
   "id": "bbd00358",
   "metadata": {},
   "source": [
    "Project 45, Maze Runner 3D: Try to escape a maze . . . in 3D! Modify multiline strings to display a 3D view."
   ]
  },
  {
   "cell_type": "code",
   "execution_count": null,
   "id": "d2f5a638",
   "metadata": {},
   "outputs": [],
   "source": []
  },
  {
   "cell_type": "markdown",
   "id": "e2ca31b9",
   "metadata": {},
   "source": [
    "Project 46, Million Dice Roll Statistics Simulator: Explore the probability results of rolling a set of dice one million times. Learn how computers crunch large quantities of numbers."
   ]
  },
  {
   "cell_type": "code",
   "execution_count": null,
   "id": "c92130e3",
   "metadata": {},
   "outputs": [],
   "source": []
  },
  {
   "cell_type": "markdown",
   "id": "b817cb20",
   "metadata": {},
   "source": [
    "Project 47, Mondrian Art Generator: Create geometric drawings in the style of Piet Mondrian. Implement an art-generating algorithm."
   ]
  },
  {
   "cell_type": "code",
   "execution_count": null,
   "id": "777cf216",
   "metadata": {},
   "outputs": [],
   "source": []
  },
  {
   "cell_type": "markdown",
   "id": "a1b8ce30",
   "metadata": {},
   "source": [
    "Project 48, Monty Hall Problem: A simulation of the Monty Hall game show problem. Examine probability with ASCII-art goats."
   ]
  },
  {
   "cell_type": "code",
   "execution_count": null,
   "id": "a2250480",
   "metadata": {},
   "outputs": [],
   "source": []
  },
  {
   "cell_type": "markdown",
   "id": "325b5e3a",
   "metadata": {},
   "source": [
    "Project 49, Multiplication Table: Display the multiplication table up to 12 × 12. Practice spacing text."
   ]
  },
  {
   "cell_type": "code",
   "execution_count": null,
   "id": "7b719469",
   "metadata": {},
   "outputs": [],
   "source": []
  },
  {
   "cell_type": "markdown",
   "id": "d3b6e2c3",
   "metadata": {},
   "source": [
    "Project 50, Ninety-Nine Bottles: Display the lyrics to a repetitive song. Use loops and string templates to produce text."
   ]
  },
  {
   "cell_type": "code",
   "execution_count": null,
   "id": "704faeaf",
   "metadata": {},
   "outputs": [],
   "source": []
  },
  {
   "cell_type": "markdown",
   "id": "c5b42e5b",
   "metadata": {},
   "source": [
    "Project 51, niNety-nniinE BoOttels: Display the lyrics to a repetitive song that get more distorted with each verse. Manipulate strings to introduce distortions."
   ]
  },
  {
   "cell_type": "code",
   "execution_count": null,
   "id": "5b1b3cea",
   "metadata": {},
   "outputs": [],
   "source": []
  },
  {
   "cell_type": "markdown",
   "id": "78c2a187",
   "metadata": {},
   "source": [
    "Project 52, Numeral Systems Counters: Examine binary and hexadecimal numbers. Use Python’s number conversion functions."
   ]
  },
  {
   "cell_type": "code",
   "execution_count": null,
   "id": "18326b26",
   "metadata": {},
   "outputs": [],
   "source": []
  },
  {
   "cell_type": "markdown",
   "id": "7ce41d5f",
   "metadata": {},
   "source": [
    "Project 53, Periodic Table of the Elements: An interactive database of chemical elements. Parse CSV files to load data into a program."
   ]
  },
  {
   "cell_type": "code",
   "execution_count": null,
   "id": "208c0de6",
   "metadata": {},
   "outputs": [],
   "source": []
  },
  {
   "cell_type": "markdown",
   "id": "2f42d884",
   "metadata": {},
   "source": [
    "Project 54, Pig Latin: Translates English messages into Igpay Atinlay. Use text parsing and string manipulation."
   ]
  },
  {
   "cell_type": "code",
   "execution_count": null,
   "id": "be5debf3",
   "metadata": {},
   "outputs": [],
   "source": []
  },
  {
   "cell_type": "markdown",
   "id": "7c9f3b1c",
   "metadata": {},
   "source": [
    "Project 55, Powerball Lottery: Simulate losing at the lottery thousands of times. Explore probability using random numbers."
   ]
  },
  {
   "cell_type": "code",
   "execution_count": null,
   "id": "fd49eb18",
   "metadata": {},
   "outputs": [],
   "source": []
  },
  {
   "cell_type": "markdown",
   "id": "33a524bb",
   "metadata": {},
   "source": [
    "Project 56, Prime Numbers: Calculate prime numbers. Learn math concepts and use Python’s math module."
   ]
  },
  {
   "cell_type": "code",
   "execution_count": null,
   "id": "402fb47d",
   "metadata": {},
   "outputs": [],
   "source": []
  },
  {
   "cell_type": "markdown",
   "id": "83129945",
   "metadata": {},
   "source": [
    "Project 57, Progress Bar: A sample progress bar animation to use in other programs. Use the backspace-printing technique to create animations."
   ]
  },
  {
   "cell_type": "code",
   "execution_count": null,
   "id": "165d7530",
   "metadata": {},
   "outputs": [],
   "source": []
  },
  {
   "cell_type": "markdown",
   "id": "3644402e",
   "metadata": {},
   "source": [
    "Project 58, Rainbow: A simple rainbow animation. Create animation for beginners."
   ]
  },
  {
   "cell_type": "code",
   "execution_count": null,
   "id": "be20f39a",
   "metadata": {},
   "outputs": [],
   "source": []
  },
  {
   "cell_type": "markdown",
   "id": "1f7df27b",
   "metadata": {},
   "source": [
    "Project 59, Rock Paper Scissors: The classic hand game for two players. Implement basic game rules as a program."
   ]
  },
  {
   "cell_type": "code",
   "execution_count": null,
   "id": "4e7edc88",
   "metadata": {},
   "outputs": [],
   "source": []
  },
  {
   "cell_type": "markdown",
   "id": "ac0b44e7",
   "metadata": {},
   "source": [
    "Project 60, Rock Paper Scissors (Always-Win Version): A version of the game where the player cannot lose. Create the illusion of randomness in a program."
   ]
  },
  {
   "cell_type": "code",
   "execution_count": null,
   "id": "cdac4a00",
   "metadata": {},
   "outputs": [],
   "source": []
  },
  {
   "cell_type": "markdown",
   "id": "358250ff",
   "metadata": {},
   "source": [
    "Project 61, ROT13 Cipher: The simplest cipher for encrypting and decrypting text. Convert between letters and numbers to perform math on text."
   ]
  },
  {
   "cell_type": "code",
   "execution_count": null,
   "id": "88d187a1",
   "metadata": {},
   "outputs": [],
   "source": []
  },
  {
   "cell_type": "markdown",
   "id": "b017a520",
   "metadata": {},
   "source": [
    "Project 62, Rotating Cube: A rotating cube animation. Learn 3D rotation and line drawing algorithms."
   ]
  },
  {
   "cell_type": "code",
   "execution_count": null,
   "id": "84247cc4",
   "metadata": {},
   "outputs": [],
   "source": []
  },
  {
   "cell_type": "markdown",
   "id": "c23d6566",
   "metadata": {},
   "source": [
    "Project 63, Royal Game of Ur: A 5,000-year-old game from Mesopotamia. Use ASCII art and string templates to draw a board game."
   ]
  },
  {
   "cell_type": "code",
   "execution_count": null,
   "id": "5caf7956",
   "metadata": {},
   "outputs": [],
   "source": []
  },
  {
   "cell_type": "markdown",
   "id": "2d27787a",
   "metadata": {},
   "source": [
    "Project 64, Seven-Segment Display Module: A display like those used in calculators and microwave ovens. Create modules for use in other programs."
   ]
  },
  {
   "cell_type": "code",
   "execution_count": null,
   "id": "b6edfefb",
   "metadata": {},
   "outputs": [],
   "source": []
  },
  {
   "cell_type": "markdown",
   "id": "3fb065dc",
   "metadata": {},
   "source": [
    "Project 65, Shining Carpet: Programmatically generate the carpet from The Shining. Use loops to make repeating text patterns."
   ]
  },
  {
   "cell_type": "code",
   "execution_count": null,
   "id": "ae8a5a69",
   "metadata": {},
   "outputs": [],
   "source": []
  },
  {
   "cell_type": "markdown",
   "id": "17e7430e",
   "metadata": {},
   "source": [
    "Project 66, Simple Substitution Cipher: An encryption scheme more advanced than the Caesar cipher. Perform intermediate math on text."
   ]
  },
  {
   "cell_type": "code",
   "execution_count": null,
   "id": "82f589b5",
   "metadata": {},
   "outputs": [],
   "source": []
  },
  {
   "cell_type": "markdown",
   "id": "e9a2d1d5",
   "metadata": {},
   "source": [
    "Project 67, Sine Message: Display a scrolling wave message. Use a trigonometry function for animation."
   ]
  },
  {
   "cell_type": "code",
   "execution_count": null,
   "id": "77935479",
   "metadata": {},
   "outputs": [],
   "source": []
  },
  {
   "cell_type": "markdown",
   "id": "c9f861f7",
   "metadata": {},
   "source": [
    "Project 68, Sliding Tile Puzzle: The classic four-by-four tile puzzle. Employ a data structure to reflect the state of a game board."
   ]
  },
  {
   "cell_type": "code",
   "execution_count": null,
   "id": "3379f399",
   "metadata": {},
   "outputs": [],
   "source": []
  },
  {
   "cell_type": "markdown",
   "id": "33f3a45e",
   "metadata": {},
   "source": [
    "Project 69, Snail Race: Fast-paced snail racing action! Calculate spacing for ASCII art snails."
   ]
  },
  {
   "cell_type": "code",
   "execution_count": null,
   "id": "eb082e8c",
   "metadata": {},
   "outputs": [],
   "source": []
  },
  {
   "cell_type": "markdown",
   "id": "15b2fd97",
   "metadata": {},
   "source": [
    "Project 70, Soroban Japanese Abacus: A computer simulation of a pre-computer calculating tool. Use string templates to create an ASCII-art counting tool."
   ]
  },
  {
   "cell_type": "code",
   "execution_count": null,
   "id": "141db367",
   "metadata": {},
   "outputs": [],
   "source": []
  },
  {
   "cell_type": "markdown",
   "id": "4497a13c",
   "metadata": {},
   "source": [
    "Project 71, Sound Mimic: Memorize an increasingly long pattern of sounds. Play sound files from a Python program."
   ]
  },
  {
   "cell_type": "code",
   "execution_count": null,
   "id": "09da622e",
   "metadata": {},
   "outputs": [],
   "source": []
  },
  {
   "cell_type": "markdown",
   "id": "5889ae98",
   "metadata": {},
   "source": [
    "Project 72, sPoNgEcAsE: Translates English messages into sPOnGEcAsE. Change the casing of letters in strings."
   ]
  },
  {
   "cell_type": "code",
   "execution_count": null,
   "id": "34683d40",
   "metadata": {},
   "outputs": [],
   "source": []
  },
  {
   "cell_type": "markdown",
   "id": "56a37c86",
   "metadata": {},
   "source": [
    "Project 73, Sudoku Puzzle: The classic nine-by-nine newspaper deduction puzzle. Model a puzzle with a data structure."
   ]
  },
  {
   "cell_type": "code",
   "execution_count": null,
   "id": "057f7a48",
   "metadata": {},
   "outputs": [],
   "source": []
  },
  {
   "cell_type": "markdown",
   "id": "32fffcaf",
   "metadata": {},
   "source": [
    "Project 74, Text-to-Speech Talker: Make your computer talk to you! Use your operating system’s text-to-speech engine."
   ]
  },
  {
   "cell_type": "code",
   "execution_count": null,
   "id": "eaab41c1",
   "metadata": {},
   "outputs": [],
   "source": []
  },
  {
   "cell_type": "markdown",
   "id": "be86f50d",
   "metadata": {},
   "source": [
    "Project 75, Three-Card Monte: The tricky fast-swapping card game that scammers play on tourists. Manipulate a data structure based on random movements."
   ]
  },
  {
   "cell_type": "code",
   "execution_count": null,
   "id": "e078fec3",
   "metadata": {},
   "outputs": [],
   "source": []
  },
  {
   "cell_type": "markdown",
   "id": "9ed32d84",
   "metadata": {},
   "source": [
    "Project 76, Tic-Tac-Toe: The classic two-player board game of Xs and Os. Create a data structure and helper functions."
   ]
  },
  {
   "cell_type": "code",
   "execution_count": null,
   "id": "73be2406",
   "metadata": {},
   "outputs": [],
   "source": []
  },
  {
   "cell_type": "markdown",
   "id": "f930927b",
   "metadata": {},
   "source": [
    "Project 77, Tower of Hanoi: The classic disk-stacking puzzle. Use stack data structures to simulate a puzzle state."
   ]
  },
  {
   "cell_type": "code",
   "execution_count": null,
   "id": "1af7b335",
   "metadata": {},
   "outputs": [],
   "source": []
  },
  {
   "cell_type": "markdown",
   "id": "55cff854",
   "metadata": {},
   "source": [
    "Project 78, Trick Questions: A quiz of simple questions with misleading answers. Parse the user’s text to recognize keywords."
   ]
  },
  {
   "cell_type": "code",
   "execution_count": null,
   "id": "64f15c88",
   "metadata": {},
   "outputs": [],
   "source": []
  },
  {
   "cell_type": "markdown",
   "id": "e757c09a",
   "metadata": {},
   "source": [
    "Project 79, Twenty Forty-Eight: A casual tile matching game. Simulate gravity to make tiles “fall” in arbitrary directions."
   ]
  },
  {
   "cell_type": "code",
   "execution_count": null,
   "id": "3378ab9d",
   "metadata": {},
   "outputs": [],
   "source": []
  },
  {
   "cell_type": "markdown",
   "id": "280b4997",
   "metadata": {},
   "source": [
    "Project 80, Vigenère Cipher: An encryption scheme so advanced it remained unbreakable for hundreds of years until computers were invented. Perform more advanced math on text."
   ]
  },
  {
   "cell_type": "code",
   "execution_count": null,
   "id": "6477ba74",
   "metadata": {},
   "outputs": [],
   "source": []
  },
  {
   "cell_type": "markdown",
   "id": "502b9be3",
   "metadata": {},
   "source": [
    "Project 81, Water Bucket Puzzle: Obtain exactly four liters of water by filling and emptying three buckets. Use string templates to generate ASCII art."
   ]
  }
 ],
 "metadata": {
  "kernelspec": {
   "display_name": "Python 3 (ipykernel)",
   "language": "python",
   "name": "python3"
  },
  "language_info": {
   "codemirror_mode": {
    "name": "ipython",
    "version": 3
   },
   "file_extension": ".py",
   "mimetype": "text/x-python",
   "name": "python",
   "nbconvert_exporter": "python",
   "pygments_lexer": "ipython3",
   "version": "3.9.12"
  }
 },
 "nbformat": 4,
 "nbformat_minor": 5
}
